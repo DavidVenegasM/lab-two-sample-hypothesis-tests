{
 "cells": [
  {
   "cell_type": "markdown",
   "metadata": {},
   "source": [
    "# Before your start:\n",
    "- Read the README.md file\n",
    "- Comment as much as you can and use the resources (README.md file)\n",
    "- Happy learning!"
   ]
  },
  {
   "cell_type": "code",
   "execution_count": 1,
   "metadata": {},
   "outputs": [],
   "source": [
    "# import numpy and pandas\n",
    "import pandas as pd\n",
    "import numpy as np\n"
   ]
  },
  {
   "cell_type": "markdown",
   "metadata": {},
   "source": [
    "# Challenge 1 - Independent Sample T-tests\n",
    "\n",
    "In this challenge, we will be using the Pokemon dataset. Before applying statistical methods to this data, let's first examine the data.\n",
    "\n",
    "To load the data, run the code below."
   ]
  },
  {
   "cell_type": "code",
   "execution_count": 2,
   "metadata": {},
   "outputs": [],
   "source": [
    "# Run this code:\n",
    "\n",
    "pokemon = pd.read_csv('../pokemon.csv')"
   ]
  },
  {
   "cell_type": "markdown",
   "metadata": {},
   "source": [
    "Let's start off by looking at the `head` function in the cell below."
   ]
  },
  {
   "cell_type": "code",
   "execution_count": 3,
   "metadata": {},
   "outputs": [
    {
     "data": {
      "text/html": [
       "<div>\n",
       "<style scoped>\n",
       "    .dataframe tbody tr th:only-of-type {\n",
       "        vertical-align: middle;\n",
       "    }\n",
       "\n",
       "    .dataframe tbody tr th {\n",
       "        vertical-align: top;\n",
       "    }\n",
       "\n",
       "    .dataframe thead th {\n",
       "        text-align: right;\n",
       "    }\n",
       "</style>\n",
       "<table border=\"1\" class=\"dataframe\">\n",
       "  <thead>\n",
       "    <tr style=\"text-align: right;\">\n",
       "      <th></th>\n",
       "      <th>#</th>\n",
       "      <th>Name</th>\n",
       "      <th>Type 1</th>\n",
       "      <th>Type 2</th>\n",
       "      <th>Total</th>\n",
       "      <th>HP</th>\n",
       "      <th>Attack</th>\n",
       "      <th>Defense</th>\n",
       "      <th>Sp. Atk</th>\n",
       "      <th>Sp. Def</th>\n",
       "      <th>Speed</th>\n",
       "      <th>Generation</th>\n",
       "      <th>Legendary</th>\n",
       "    </tr>\n",
       "  </thead>\n",
       "  <tbody>\n",
       "    <tr>\n",
       "      <th>0</th>\n",
       "      <td>1</td>\n",
       "      <td>Bulbasaur</td>\n",
       "      <td>Grass</td>\n",
       "      <td>Poison</td>\n",
       "      <td>318</td>\n",
       "      <td>45</td>\n",
       "      <td>49</td>\n",
       "      <td>49</td>\n",
       "      <td>65</td>\n",
       "      <td>65</td>\n",
       "      <td>45</td>\n",
       "      <td>1</td>\n",
       "      <td>False</td>\n",
       "    </tr>\n",
       "    <tr>\n",
       "      <th>1</th>\n",
       "      <td>2</td>\n",
       "      <td>Ivysaur</td>\n",
       "      <td>Grass</td>\n",
       "      <td>Poison</td>\n",
       "      <td>405</td>\n",
       "      <td>60</td>\n",
       "      <td>62</td>\n",
       "      <td>63</td>\n",
       "      <td>80</td>\n",
       "      <td>80</td>\n",
       "      <td>60</td>\n",
       "      <td>1</td>\n",
       "      <td>False</td>\n",
       "    </tr>\n",
       "    <tr>\n",
       "      <th>2</th>\n",
       "      <td>3</td>\n",
       "      <td>Venusaur</td>\n",
       "      <td>Grass</td>\n",
       "      <td>Poison</td>\n",
       "      <td>525</td>\n",
       "      <td>80</td>\n",
       "      <td>82</td>\n",
       "      <td>83</td>\n",
       "      <td>100</td>\n",
       "      <td>100</td>\n",
       "      <td>80</td>\n",
       "      <td>1</td>\n",
       "      <td>False</td>\n",
       "    </tr>\n",
       "    <tr>\n",
       "      <th>3</th>\n",
       "      <td>3</td>\n",
       "      <td>VenusaurMega Venusaur</td>\n",
       "      <td>Grass</td>\n",
       "      <td>Poison</td>\n",
       "      <td>625</td>\n",
       "      <td>80</td>\n",
       "      <td>100</td>\n",
       "      <td>123</td>\n",
       "      <td>122</td>\n",
       "      <td>120</td>\n",
       "      <td>80</td>\n",
       "      <td>1</td>\n",
       "      <td>False</td>\n",
       "    </tr>\n",
       "    <tr>\n",
       "      <th>4</th>\n",
       "      <td>4</td>\n",
       "      <td>Charmander</td>\n",
       "      <td>Fire</td>\n",
       "      <td>NaN</td>\n",
       "      <td>309</td>\n",
       "      <td>39</td>\n",
       "      <td>52</td>\n",
       "      <td>43</td>\n",
       "      <td>60</td>\n",
       "      <td>50</td>\n",
       "      <td>65</td>\n",
       "      <td>1</td>\n",
       "      <td>False</td>\n",
       "    </tr>\n",
       "  </tbody>\n",
       "</table>\n",
       "</div>"
      ],
      "text/plain": [
       "   #                   Name Type 1  Type 2  Total  HP  Attack  Defense  \\\n",
       "0  1              Bulbasaur  Grass  Poison    318  45      49       49   \n",
       "1  2                Ivysaur  Grass  Poison    405  60      62       63   \n",
       "2  3               Venusaur  Grass  Poison    525  80      82       83   \n",
       "3  3  VenusaurMega Venusaur  Grass  Poison    625  80     100      123   \n",
       "4  4             Charmander   Fire     NaN    309  39      52       43   \n",
       "\n",
       "   Sp. Atk  Sp. Def  Speed  Generation  Legendary  \n",
       "0       65       65     45           1      False  \n",
       "1       80       80     60           1      False  \n",
       "2      100      100     80           1      False  \n",
       "3      122      120     80           1      False  \n",
       "4       60       50     65           1      False  "
      ]
     },
     "execution_count": 3,
     "metadata": {},
     "output_type": "execute_result"
    }
   ],
   "source": [
    "# Your code here:\n",
    "\n",
    "pokemon.head()"
   ]
  },
  {
   "cell_type": "markdown",
   "metadata": {},
   "source": [
    "The first thing we would like to do is compare the legendary Pokemon to the regular Pokemon. To do this, we should examine the data further. What is the count of legendary vs. non legendary Pokemons?"
   ]
  },
  {
   "cell_type": "code",
   "execution_count": 6,
   "metadata": {},
   "outputs": [
    {
     "data": {
      "text/plain": [
       "False    735\n",
       "True      65\n",
       "Name: Legendary, dtype: int64"
      ]
     },
     "execution_count": 6,
     "metadata": {},
     "output_type": "execute_result"
    }
   ],
   "source": [
    "# Your code here:\n",
    "pokemon['Legendary'].value_counts()\n",
    "\n"
   ]
  },
  {
   "cell_type": "markdown",
   "metadata": {},
   "source": [
    "Compute the mean and standard deviation of the total points for both legendary and non-legendary Pokemon."
   ]
  },
  {
   "cell_type": "code",
   "execution_count": 25,
   "metadata": {},
   "outputs": [
    {
     "name": "stdout",
     "output_type": "stream",
     "text": [
      "Legendary Pokemon\n"
     ]
    },
    {
     "data": {
      "text/html": [
       "<div>\n",
       "<style scoped>\n",
       "    .dataframe tbody tr th:only-of-type {\n",
       "        vertical-align: middle;\n",
       "    }\n",
       "\n",
       "    .dataframe tbody tr th {\n",
       "        vertical-align: top;\n",
       "    }\n",
       "\n",
       "    .dataframe thead th {\n",
       "        text-align: right;\n",
       "    }\n",
       "</style>\n",
       "<table border=\"1\" class=\"dataframe\">\n",
       "  <thead>\n",
       "    <tr style=\"text-align: right;\">\n",
       "      <th></th>\n",
       "      <th>#</th>\n",
       "      <th>Total</th>\n",
       "      <th>HP</th>\n",
       "      <th>Attack</th>\n",
       "      <th>Defense</th>\n",
       "      <th>Sp. Atk</th>\n",
       "      <th>Sp. Def</th>\n",
       "      <th>Speed</th>\n",
       "      <th>Generation</th>\n",
       "    </tr>\n",
       "  </thead>\n",
       "  <tbody>\n",
       "    <tr>\n",
       "      <th>mean</th>\n",
       "      <td>470.215385</td>\n",
       "      <td>637.384615</td>\n",
       "      <td>92.738462</td>\n",
       "      <td>116.676923</td>\n",
       "      <td>99.661538</td>\n",
       "      <td>122.184615</td>\n",
       "      <td>105.938462</td>\n",
       "      <td>100.184615</td>\n",
       "      <td>3.769231</td>\n",
       "    </tr>\n",
       "    <tr>\n",
       "      <th>std</th>\n",
       "      <td>173.651095</td>\n",
       "      <td>60.937389</td>\n",
       "      <td>21.722164</td>\n",
       "      <td>30.348037</td>\n",
       "      <td>28.255131</td>\n",
       "      <td>31.104608</td>\n",
       "      <td>28.827004</td>\n",
       "      <td>22.952323</td>\n",
       "      <td>1.455262</td>\n",
       "    </tr>\n",
       "  </tbody>\n",
       "</table>\n",
       "</div>"
      ],
      "text/plain": [
       "               #       Total         HP      Attack    Defense     Sp. Atk  \\\n",
       "mean  470.215385  637.384615  92.738462  116.676923  99.661538  122.184615   \n",
       "std   173.651095   60.937389  21.722164   30.348037  28.255131   31.104608   \n",
       "\n",
       "         Sp. Def       Speed  Generation  \n",
       "mean  105.938462  100.184615    3.769231  \n",
       "std    28.827004   22.952323    1.455262  "
      ]
     },
     "execution_count": 25,
     "metadata": {},
     "output_type": "execute_result"
    }
   ],
   "source": [
    "# Your code here:\n",
    "print('Legendary Pokemon')\n",
    "pokemon[pokemon['Legendary'] == True].describe().loc[['mean','std']]"
   ]
  },
  {
   "cell_type": "code",
   "execution_count": 26,
   "metadata": {},
   "outputs": [
    {
     "name": "stdout",
     "output_type": "stream",
     "text": [
      "Non Legendary Pokemon\n"
     ]
    },
    {
     "data": {
      "text/html": [
       "<div>\n",
       "<style scoped>\n",
       "    .dataframe tbody tr th:only-of-type {\n",
       "        vertical-align: middle;\n",
       "    }\n",
       "\n",
       "    .dataframe tbody tr th {\n",
       "        vertical-align: top;\n",
       "    }\n",
       "\n",
       "    .dataframe thead th {\n",
       "        text-align: right;\n",
       "    }\n",
       "</style>\n",
       "<table border=\"1\" class=\"dataframe\">\n",
       "  <thead>\n",
       "    <tr style=\"text-align: right;\">\n",
       "      <th></th>\n",
       "      <th>#</th>\n",
       "      <th>Total</th>\n",
       "      <th>HP</th>\n",
       "      <th>Attack</th>\n",
       "      <th>Defense</th>\n",
       "      <th>Sp. Atk</th>\n",
       "      <th>Sp. Def</th>\n",
       "      <th>Speed</th>\n",
       "      <th>Generation</th>\n",
       "    </tr>\n",
       "  </thead>\n",
       "  <tbody>\n",
       "    <tr>\n",
       "      <th>mean</th>\n",
       "      <td>353.315646</td>\n",
       "      <td>417.213605</td>\n",
       "      <td>67.182313</td>\n",
       "      <td>75.669388</td>\n",
       "      <td>71.559184</td>\n",
       "      <td>68.454422</td>\n",
       "      <td>68.892517</td>\n",
       "      <td>65.455782</td>\n",
       "      <td>3.284354</td>\n",
       "    </tr>\n",
       "    <tr>\n",
       "      <th>std</th>\n",
       "      <td>208.590419</td>\n",
       "      <td>106.760417</td>\n",
       "      <td>24.808849</td>\n",
       "      <td>30.490153</td>\n",
       "      <td>30.408194</td>\n",
       "      <td>29.091705</td>\n",
       "      <td>25.669310</td>\n",
       "      <td>27.843038</td>\n",
       "      <td>1.673471</td>\n",
       "    </tr>\n",
       "  </tbody>\n",
       "</table>\n",
       "</div>"
      ],
      "text/plain": [
       "               #       Total         HP     Attack    Defense    Sp. Atk  \\\n",
       "mean  353.315646  417.213605  67.182313  75.669388  71.559184  68.454422   \n",
       "std   208.590419  106.760417  24.808849  30.490153  30.408194  29.091705   \n",
       "\n",
       "        Sp. Def      Speed  Generation  \n",
       "mean  68.892517  65.455782    3.284354  \n",
       "std   25.669310  27.843038    1.673471  "
      ]
     },
     "execution_count": 26,
     "metadata": {},
     "output_type": "execute_result"
    }
   ],
   "source": [
    "print('Non Legendary Pokemon')\n",
    "pokemon[pokemon['Legendary'] == False].describe().loc[['mean','std']]"
   ]
  },
  {
   "cell_type": "markdown",
   "metadata": {},
   "source": [
    "The computation of the mean might give us a clue regarding how the statistical test may turn out; However, it certainly does not prove whether there is a significant difference between the two groups.\n",
    "\n",
    "In the cell below, use the `ttest_ind` function in `scipy.stats` to compare the the total points for legendary and non-legendary Pokemon. Since we do not have any information about the population, assume the variances are not equal."
   ]
  },
  {
   "cell_type": "code",
   "execution_count": 34,
   "metadata": {},
   "outputs": [
    {
     "data": {
      "text/plain": [
       "Ttest_indResult(statistic=array([16.38611697,  8.03612441, 10.39732102,  7.18124012, 14.19140621,\n",
       "       11.03775106,  9.76523433,  2.26129105]), pvalue=array([3.09524575e-52, 3.33064768e-15, 7.82725300e-24, 1.58422261e-12,\n",
       "       6.31491577e-41, 1.84398096e-26, 2.35407544e-21, 2.40096819e-02]))"
      ]
     },
     "execution_count": 34,
     "metadata": {},
     "output_type": "execute_result"
    }
   ],
   "source": [
    "# Your code here:\n",
    "from scipy.stats import ttest_ind\n",
    "pokemon.columns\n",
    "lengend_pok = pokemon[pokemon['Legendary'] == True][['Total', 'HP', 'Attack', 'Defense','Sp. Atk', 'Sp. Def', 'Speed', 'Generation']]\n",
    "non_legend_pok = pokemon[pokemon['Legendary'] == False][['Total', 'HP', 'Attack', 'Defense','Sp. Atk', 'Sp. Def', 'Speed', 'Generation']]\n",
    "ttest_ind(lengend_pok,non_legend_pok )\n"
   ]
  },
  {
   "cell_type": "markdown",
   "metadata": {},
   "source": [
    "What do you conclude from this test? Write your conclusions below."
   ]
  },
  {
   "cell_type": "code",
   "execution_count": 6,
   "metadata": {},
   "outputs": [],
   "source": [
    "# Your conclusions here:\n",
    "#generation is relevant but not as relevant as other attributes since pvalue is 0.024\n"
   ]
  },
  {
   "cell_type": "markdown",
   "metadata": {},
   "source": [
    "How about we try to compare the different types of pokemon? In the cell below, list the types of Pokemon from column `Type 1` and the count of each type."
   ]
  },
  {
   "cell_type": "code",
   "execution_count": 43,
   "metadata": {},
   "outputs": [
    {
     "data": {
      "text/plain": [
       "Type 1\n",
       "Water       112\n",
       "Normal       98\n",
       "Grass        70\n",
       "Bug          69\n",
       "Psychic      57\n",
       "Fire         52\n",
       "Electric     44\n",
       "Rock         44\n",
       "Ghost        32\n",
       "Ground       32\n",
       "Dragon       32\n",
       "Dark         31\n",
       "Poison       28\n",
       "Fighting     27\n",
       "Steel        27\n",
       "Ice          24\n",
       "Fairy        17\n",
       "Flying        4\n",
       "Name: Name, dtype: int64"
      ]
     },
     "execution_count": 43,
     "metadata": {},
     "output_type": "execute_result"
    }
   ],
   "source": [
    "# Your code here:\n",
    "pokemon.groupby(by='Type 1')['Name'].count().sort_values(ascending=False)\n"
   ]
  },
  {
   "cell_type": "markdown",
   "metadata": {},
   "source": [
    "Since water is the largest group of Pokemon, compare the mean and standard deviation of water Pokemon to all other Pokemon."
   ]
  },
  {
   "cell_type": "code",
   "execution_count": 67,
   "metadata": {},
   "outputs": [
    {
     "data": {
      "text/html": [
       "<div>\n",
       "<style scoped>\n",
       "    .dataframe tbody tr th:only-of-type {\n",
       "        vertical-align: middle;\n",
       "    }\n",
       "\n",
       "    .dataframe tbody tr th {\n",
       "        vertical-align: top;\n",
       "    }\n",
       "\n",
       "    .dataframe thead th {\n",
       "        text-align: right;\n",
       "    }\n",
       "</style>\n",
       "<table border=\"1\" class=\"dataframe\">\n",
       "  <thead>\n",
       "    <tr style=\"text-align: right;\">\n",
       "      <th></th>\n",
       "      <th>Type 1</th>\n",
       "      <th>Bug</th>\n",
       "      <th>Dark</th>\n",
       "      <th>Dragon</th>\n",
       "      <th>Electric</th>\n",
       "      <th>Fairy</th>\n",
       "      <th>Fighting</th>\n",
       "      <th>Fire</th>\n",
       "      <th>Flying</th>\n",
       "      <th>Ghost</th>\n",
       "      <th>Grass</th>\n",
       "      <th>Ground</th>\n",
       "      <th>Ice</th>\n",
       "      <th>Normal</th>\n",
       "      <th>Poison</th>\n",
       "      <th>Psychic</th>\n",
       "      <th>Rock</th>\n",
       "      <th>Steel</th>\n",
       "      <th>Water</th>\n",
       "    </tr>\n",
       "  </thead>\n",
       "  <tbody>\n",
       "    <tr>\n",
       "      <th rowspan=\"2\" valign=\"top\">#</th>\n",
       "      <th>mean</th>\n",
       "      <td>334.492754</td>\n",
       "      <td>461.354839</td>\n",
       "      <td>474.375000</td>\n",
       "      <td>363.500000</td>\n",
       "      <td>449.529412</td>\n",
       "      <td>363.851852</td>\n",
       "      <td>327.403846</td>\n",
       "      <td>677.750000</td>\n",
       "      <td>486.500000</td>\n",
       "      <td>344.871429</td>\n",
       "      <td>356.281250</td>\n",
       "      <td>423.541667</td>\n",
       "      <td>319.173469</td>\n",
       "      <td>251.785714</td>\n",
       "      <td>380.807018</td>\n",
       "      <td>392.727273</td>\n",
       "      <td>442.851852</td>\n",
       "      <td>303.089286</td>\n",
       "    </tr>\n",
       "    <tr>\n",
       "      <th>std</th>\n",
       "      <td>210.445160</td>\n",
       "      <td>176.022072</td>\n",
       "      <td>170.190169</td>\n",
       "      <td>202.731063</td>\n",
       "      <td>271.983942</td>\n",
       "      <td>218.565200</td>\n",
       "      <td>226.262840</td>\n",
       "      <td>42.437209</td>\n",
       "      <td>209.189218</td>\n",
       "      <td>200.264385</td>\n",
       "      <td>204.899855</td>\n",
       "      <td>175.465834</td>\n",
       "      <td>193.854820</td>\n",
       "      <td>228.801767</td>\n",
       "      <td>194.600455</td>\n",
       "      <td>213.746140</td>\n",
       "      <td>164.847180</td>\n",
       "      <td>188.440807</td>\n",
       "    </tr>\n",
       "    <tr>\n",
       "      <th rowspan=\"2\" valign=\"top\">Total</th>\n",
       "      <th>mean</th>\n",
       "      <td>378.927536</td>\n",
       "      <td>445.741935</td>\n",
       "      <td>550.531250</td>\n",
       "      <td>443.409091</td>\n",
       "      <td>413.176471</td>\n",
       "      <td>416.444444</td>\n",
       "      <td>458.076923</td>\n",
       "      <td>485.000000</td>\n",
       "      <td>439.562500</td>\n",
       "      <td>421.142857</td>\n",
       "      <td>437.500000</td>\n",
       "      <td>433.458333</td>\n",
       "      <td>401.683673</td>\n",
       "      <td>399.142857</td>\n",
       "      <td>475.947368</td>\n",
       "      <td>453.750000</td>\n",
       "      <td>487.703704</td>\n",
       "      <td>430.455357</td>\n",
       "    </tr>\n",
       "    <tr>\n",
       "      <th>std</th>\n",
       "      <td>117.875223</td>\n",
       "      <td>109.126217</td>\n",
       "      <td>146.267538</td>\n",
       "      <td>105.721952</td>\n",
       "      <td>123.781680</td>\n",
       "      <td>102.464378</td>\n",
       "      <td>109.760496</td>\n",
       "      <td>161.400124</td>\n",
       "      <td>110.072685</td>\n",
       "      <td>106.650626</td>\n",
       "      <td>123.913081</td>\n",
       "      <td>108.281027</td>\n",
       "      <td>115.733038</td>\n",
       "      <td>92.358687</td>\n",
       "      <td>139.026645</td>\n",
       "      <td>108.059227</td>\n",
       "      <td>115.420907</td>\n",
       "      <td>113.188266</td>\n",
       "    </tr>\n",
       "    <tr>\n",
       "      <th rowspan=\"2\" valign=\"top\">HP</th>\n",
       "      <th>mean</th>\n",
       "      <td>56.884058</td>\n",
       "      <td>66.806452</td>\n",
       "      <td>83.312500</td>\n",
       "      <td>59.795455</td>\n",
       "      <td>74.117647</td>\n",
       "      <td>69.851852</td>\n",
       "      <td>69.903846</td>\n",
       "      <td>70.750000</td>\n",
       "      <td>64.437500</td>\n",
       "      <td>67.271429</td>\n",
       "      <td>73.781250</td>\n",
       "      <td>72.000000</td>\n",
       "      <td>77.275510</td>\n",
       "      <td>67.250000</td>\n",
       "      <td>70.631579</td>\n",
       "      <td>65.363636</td>\n",
       "      <td>65.222222</td>\n",
       "      <td>72.062500</td>\n",
       "    </tr>\n",
       "    <tr>\n",
       "      <th>std</th>\n",
       "      <td>16.328914</td>\n",
       "      <td>21.078297</td>\n",
       "      <td>23.795415</td>\n",
       "      <td>17.306511</td>\n",
       "      <td>23.587291</td>\n",
       "      <td>25.852695</td>\n",
       "      <td>19.404123</td>\n",
       "      <td>20.694202</td>\n",
       "      <td>31.685895</td>\n",
       "      <td>19.516564</td>\n",
       "      <td>25.662492</td>\n",
       "      <td>21.286861</td>\n",
       "      <td>36.233430</td>\n",
       "      <td>19.665019</td>\n",
       "      <td>28.421340</td>\n",
       "      <td>20.833884</td>\n",
       "      <td>16.044010</td>\n",
       "      <td>27.487026</td>\n",
       "    </tr>\n",
       "    <tr>\n",
       "      <th rowspan=\"2\" valign=\"top\">Attack</th>\n",
       "      <th>mean</th>\n",
       "      <td>70.971014</td>\n",
       "      <td>88.387097</td>\n",
       "      <td>112.125000</td>\n",
       "      <td>69.090909</td>\n",
       "      <td>61.529412</td>\n",
       "      <td>96.777778</td>\n",
       "      <td>84.769231</td>\n",
       "      <td>78.750000</td>\n",
       "      <td>73.781250</td>\n",
       "      <td>73.214286</td>\n",
       "      <td>95.750000</td>\n",
       "      <td>72.750000</td>\n",
       "      <td>73.469388</td>\n",
       "      <td>74.678571</td>\n",
       "      <td>71.456140</td>\n",
       "      <td>92.863636</td>\n",
       "      <td>92.703704</td>\n",
       "      <td>74.151786</td>\n",
       "    </tr>\n",
       "    <tr>\n",
       "      <th>std</th>\n",
       "      <td>37.040904</td>\n",
       "      <td>25.774247</td>\n",
       "      <td>33.742622</td>\n",
       "      <td>23.764169</td>\n",
       "      <td>29.751298</td>\n",
       "      <td>28.290163</td>\n",
       "      <td>28.769275</td>\n",
       "      <td>37.500000</td>\n",
       "      <td>29.629687</td>\n",
       "      <td>25.380520</td>\n",
       "      <td>33.059087</td>\n",
       "      <td>27.289511</td>\n",
       "      <td>30.295862</td>\n",
       "      <td>19.630010</td>\n",
       "      <td>42.309265</td>\n",
       "      <td>35.325458</td>\n",
       "      <td>30.388276</td>\n",
       "      <td>28.377192</td>\n",
       "    </tr>\n",
       "    <tr>\n",
       "      <th rowspan=\"2\" valign=\"top\">Defense</th>\n",
       "      <th>mean</th>\n",
       "      <td>70.724638</td>\n",
       "      <td>70.225806</td>\n",
       "      <td>86.375000</td>\n",
       "      <td>66.295455</td>\n",
       "      <td>65.705882</td>\n",
       "      <td>65.925926</td>\n",
       "      <td>67.769231</td>\n",
       "      <td>66.250000</td>\n",
       "      <td>81.187500</td>\n",
       "      <td>70.800000</td>\n",
       "      <td>84.843750</td>\n",
       "      <td>71.416667</td>\n",
       "      <td>59.846939</td>\n",
       "      <td>68.821429</td>\n",
       "      <td>67.684211</td>\n",
       "      <td>100.795455</td>\n",
       "      <td>126.370370</td>\n",
       "      <td>72.946429</td>\n",
       "    </tr>\n",
       "    <tr>\n",
       "      <th>std</th>\n",
       "      <td>33.617609</td>\n",
       "      <td>25.121982</td>\n",
       "      <td>24.102938</td>\n",
       "      <td>24.757033</td>\n",
       "      <td>18.979478</td>\n",
       "      <td>18.578163</td>\n",
       "      <td>23.658200</td>\n",
       "      <td>21.360009</td>\n",
       "      <td>32.551138</td>\n",
       "      <td>24.485192</td>\n",
       "      <td>33.786912</td>\n",
       "      <td>34.387708</td>\n",
       "      <td>23.771833</td>\n",
       "      <td>21.066128</td>\n",
       "      <td>28.359401</td>\n",
       "      <td>36.447209</td>\n",
       "      <td>44.806548</td>\n",
       "      <td>27.773809</td>\n",
       "    </tr>\n",
       "    <tr>\n",
       "      <th rowspan=\"2\" valign=\"top\">Sp. Atk</th>\n",
       "      <th>mean</th>\n",
       "      <td>53.869565</td>\n",
       "      <td>74.645161</td>\n",
       "      <td>96.843750</td>\n",
       "      <td>90.022727</td>\n",
       "      <td>78.529412</td>\n",
       "      <td>53.111111</td>\n",
       "      <td>88.980769</td>\n",
       "      <td>94.250000</td>\n",
       "      <td>79.343750</td>\n",
       "      <td>77.500000</td>\n",
       "      <td>56.468750</td>\n",
       "      <td>77.541667</td>\n",
       "      <td>55.816327</td>\n",
       "      <td>60.428571</td>\n",
       "      <td>98.403509</td>\n",
       "      <td>63.340909</td>\n",
       "      <td>67.518519</td>\n",
       "      <td>74.812500</td>\n",
       "    </tr>\n",
       "    <tr>\n",
       "      <th>std</th>\n",
       "      <td>26.697055</td>\n",
       "      <td>33.200952</td>\n",
       "      <td>42.257360</td>\n",
       "      <td>29.740340</td>\n",
       "      <td>28.548462</td>\n",
       "      <td>28.159345</td>\n",
       "      <td>30.042121</td>\n",
       "      <td>34.769479</td>\n",
       "      <td>32.561217</td>\n",
       "      <td>27.244864</td>\n",
       "      <td>28.135598</td>\n",
       "      <td>26.604967</td>\n",
       "      <td>23.946395</td>\n",
       "      <td>19.322657</td>\n",
       "      <td>38.539340</td>\n",
       "      <td>28.249670</td>\n",
       "      <td>31.458606</td>\n",
       "      <td>29.030128</td>\n",
       "    </tr>\n",
       "    <tr>\n",
       "      <th rowspan=\"2\" valign=\"top\">Sp. Def</th>\n",
       "      <th>mean</th>\n",
       "      <td>64.797101</td>\n",
       "      <td>69.516129</td>\n",
       "      <td>88.843750</td>\n",
       "      <td>73.704545</td>\n",
       "      <td>84.705882</td>\n",
       "      <td>64.703704</td>\n",
       "      <td>72.211538</td>\n",
       "      <td>72.500000</td>\n",
       "      <td>76.468750</td>\n",
       "      <td>70.428571</td>\n",
       "      <td>62.750000</td>\n",
       "      <td>76.291667</td>\n",
       "      <td>63.724490</td>\n",
       "      <td>64.392857</td>\n",
       "      <td>86.280702</td>\n",
       "      <td>75.477273</td>\n",
       "      <td>80.629630</td>\n",
       "      <td>70.517857</td>\n",
       "    </tr>\n",
       "    <tr>\n",
       "      <th>std</th>\n",
       "      <td>32.126395</td>\n",
       "      <td>24.799020</td>\n",
       "      <td>29.884843</td>\n",
       "      <td>22.601275</td>\n",
       "      <td>29.721130</td>\n",
       "      <td>22.745777</td>\n",
       "      <td>22.619908</td>\n",
       "      <td>22.173558</td>\n",
       "      <td>26.038414</td>\n",
       "      <td>21.446645</td>\n",
       "      <td>21.267877</td>\n",
       "      <td>37.213227</td>\n",
       "      <td>25.142801</td>\n",
       "      <td>19.887348</td>\n",
       "      <td>31.126329</td>\n",
       "      <td>32.265965</td>\n",
       "      <td>29.018758</td>\n",
       "      <td>28.460493</td>\n",
       "    </tr>\n",
       "    <tr>\n",
       "      <th rowspan=\"2\" valign=\"top\">Speed</th>\n",
       "      <th>mean</th>\n",
       "      <td>61.681159</td>\n",
       "      <td>76.161290</td>\n",
       "      <td>83.031250</td>\n",
       "      <td>84.500000</td>\n",
       "      <td>48.588235</td>\n",
       "      <td>66.074074</td>\n",
       "      <td>74.442308</td>\n",
       "      <td>102.500000</td>\n",
       "      <td>64.343750</td>\n",
       "      <td>61.928571</td>\n",
       "      <td>63.906250</td>\n",
       "      <td>63.458333</td>\n",
       "      <td>71.551020</td>\n",
       "      <td>63.571429</td>\n",
       "      <td>81.491228</td>\n",
       "      <td>55.909091</td>\n",
       "      <td>55.259259</td>\n",
       "      <td>65.964286</td>\n",
       "    </tr>\n",
       "    <tr>\n",
       "      <th>std</th>\n",
       "      <td>33.227599</td>\n",
       "      <td>27.768203</td>\n",
       "      <td>23.239961</td>\n",
       "      <td>26.691607</td>\n",
       "      <td>23.305200</td>\n",
       "      <td>26.054567</td>\n",
       "      <td>25.245783</td>\n",
       "      <td>32.098806</td>\n",
       "      <td>28.020280</td>\n",
       "      <td>28.506456</td>\n",
       "      <td>27.450083</td>\n",
       "      <td>24.498410</td>\n",
       "      <td>28.406157</td>\n",
       "      <td>22.631392</td>\n",
       "      <td>37.335412</td>\n",
       "      <td>29.903580</td>\n",
       "      <td>25.846578</td>\n",
       "      <td>23.019353</td>\n",
       "    </tr>\n",
       "    <tr>\n",
       "      <th rowspan=\"2\" valign=\"top\">Generation</th>\n",
       "      <th>mean</th>\n",
       "      <td>3.217391</td>\n",
       "      <td>4.032258</td>\n",
       "      <td>3.875000</td>\n",
       "      <td>3.272727</td>\n",
       "      <td>4.117647</td>\n",
       "      <td>3.370370</td>\n",
       "      <td>3.211538</td>\n",
       "      <td>5.500000</td>\n",
       "      <td>4.187500</td>\n",
       "      <td>3.357143</td>\n",
       "      <td>3.156250</td>\n",
       "      <td>3.541667</td>\n",
       "      <td>3.051020</td>\n",
       "      <td>2.535714</td>\n",
       "      <td>3.385965</td>\n",
       "      <td>3.454545</td>\n",
       "      <td>3.851852</td>\n",
       "      <td>2.857143</td>\n",
       "    </tr>\n",
       "    <tr>\n",
       "      <th>std</th>\n",
       "      <td>1.598433</td>\n",
       "      <td>1.353609</td>\n",
       "      <td>1.431219</td>\n",
       "      <td>1.604697</td>\n",
       "      <td>2.147160</td>\n",
       "      <td>1.800601</td>\n",
       "      <td>1.850665</td>\n",
       "      <td>0.577350</td>\n",
       "      <td>1.693203</td>\n",
       "      <td>1.579173</td>\n",
       "      <td>1.588454</td>\n",
       "      <td>1.473805</td>\n",
       "      <td>1.575407</td>\n",
       "      <td>1.752927</td>\n",
       "      <td>1.644845</td>\n",
       "      <td>1.848375</td>\n",
       "      <td>1.350319</td>\n",
       "      <td>1.558800</td>\n",
       "    </tr>\n",
       "    <tr>\n",
       "      <th rowspan=\"2\" valign=\"top\">Legendary</th>\n",
       "      <th>mean</th>\n",
       "      <td>0.000000</td>\n",
       "      <td>0.064516</td>\n",
       "      <td>0.375000</td>\n",
       "      <td>0.090909</td>\n",
       "      <td>0.058824</td>\n",
       "      <td>0.000000</td>\n",
       "      <td>0.096154</td>\n",
       "      <td>0.500000</td>\n",
       "      <td>0.062500</td>\n",
       "      <td>0.042857</td>\n",
       "      <td>0.125000</td>\n",
       "      <td>0.083333</td>\n",
       "      <td>0.020408</td>\n",
       "      <td>0.000000</td>\n",
       "      <td>0.245614</td>\n",
       "      <td>0.090909</td>\n",
       "      <td>0.148148</td>\n",
       "      <td>0.035714</td>\n",
       "    </tr>\n",
       "    <tr>\n",
       "      <th>std</th>\n",
       "      <td>0.000000</td>\n",
       "      <td>0.249731</td>\n",
       "      <td>0.491869</td>\n",
       "      <td>0.290803</td>\n",
       "      <td>0.242536</td>\n",
       "      <td>0.000000</td>\n",
       "      <td>0.297678</td>\n",
       "      <td>0.577350</td>\n",
       "      <td>0.245935</td>\n",
       "      <td>0.203997</td>\n",
       "      <td>0.336011</td>\n",
       "      <td>0.282330</td>\n",
       "      <td>0.142119</td>\n",
       "      <td>0.000000</td>\n",
       "      <td>0.434277</td>\n",
       "      <td>0.290803</td>\n",
       "      <td>0.362014</td>\n",
       "      <td>0.186411</td>\n",
       "    </tr>\n",
       "  </tbody>\n",
       "</table>\n",
       "</div>"
      ],
      "text/plain": [
       "Type 1                  Bug        Dark      Dragon    Electric       Fairy  \\\n",
       "#          mean  334.492754  461.354839  474.375000  363.500000  449.529412   \n",
       "           std   210.445160  176.022072  170.190169  202.731063  271.983942   \n",
       "Total      mean  378.927536  445.741935  550.531250  443.409091  413.176471   \n",
       "           std   117.875223  109.126217  146.267538  105.721952  123.781680   \n",
       "HP         mean   56.884058   66.806452   83.312500   59.795455   74.117647   \n",
       "           std    16.328914   21.078297   23.795415   17.306511   23.587291   \n",
       "Attack     mean   70.971014   88.387097  112.125000   69.090909   61.529412   \n",
       "           std    37.040904   25.774247   33.742622   23.764169   29.751298   \n",
       "Defense    mean   70.724638   70.225806   86.375000   66.295455   65.705882   \n",
       "           std    33.617609   25.121982   24.102938   24.757033   18.979478   \n",
       "Sp. Atk    mean   53.869565   74.645161   96.843750   90.022727   78.529412   \n",
       "           std    26.697055   33.200952   42.257360   29.740340   28.548462   \n",
       "Sp. Def    mean   64.797101   69.516129   88.843750   73.704545   84.705882   \n",
       "           std    32.126395   24.799020   29.884843   22.601275   29.721130   \n",
       "Speed      mean   61.681159   76.161290   83.031250   84.500000   48.588235   \n",
       "           std    33.227599   27.768203   23.239961   26.691607   23.305200   \n",
       "Generation mean    3.217391    4.032258    3.875000    3.272727    4.117647   \n",
       "           std     1.598433    1.353609    1.431219    1.604697    2.147160   \n",
       "Legendary  mean    0.000000    0.064516    0.375000    0.090909    0.058824   \n",
       "           std     0.000000    0.249731    0.491869    0.290803    0.242536   \n",
       "\n",
       "Type 1             Fighting        Fire      Flying       Ghost       Grass  \\\n",
       "#          mean  363.851852  327.403846  677.750000  486.500000  344.871429   \n",
       "           std   218.565200  226.262840   42.437209  209.189218  200.264385   \n",
       "Total      mean  416.444444  458.076923  485.000000  439.562500  421.142857   \n",
       "           std   102.464378  109.760496  161.400124  110.072685  106.650626   \n",
       "HP         mean   69.851852   69.903846   70.750000   64.437500   67.271429   \n",
       "           std    25.852695   19.404123   20.694202   31.685895   19.516564   \n",
       "Attack     mean   96.777778   84.769231   78.750000   73.781250   73.214286   \n",
       "           std    28.290163   28.769275   37.500000   29.629687   25.380520   \n",
       "Defense    mean   65.925926   67.769231   66.250000   81.187500   70.800000   \n",
       "           std    18.578163   23.658200   21.360009   32.551138   24.485192   \n",
       "Sp. Atk    mean   53.111111   88.980769   94.250000   79.343750   77.500000   \n",
       "           std    28.159345   30.042121   34.769479   32.561217   27.244864   \n",
       "Sp. Def    mean   64.703704   72.211538   72.500000   76.468750   70.428571   \n",
       "           std    22.745777   22.619908   22.173558   26.038414   21.446645   \n",
       "Speed      mean   66.074074   74.442308  102.500000   64.343750   61.928571   \n",
       "           std    26.054567   25.245783   32.098806   28.020280   28.506456   \n",
       "Generation mean    3.370370    3.211538    5.500000    4.187500    3.357143   \n",
       "           std     1.800601    1.850665    0.577350    1.693203    1.579173   \n",
       "Legendary  mean    0.000000    0.096154    0.500000    0.062500    0.042857   \n",
       "           std     0.000000    0.297678    0.577350    0.245935    0.203997   \n",
       "\n",
       "Type 1               Ground         Ice      Normal      Poison     Psychic  \\\n",
       "#          mean  356.281250  423.541667  319.173469  251.785714  380.807018   \n",
       "           std   204.899855  175.465834  193.854820  228.801767  194.600455   \n",
       "Total      mean  437.500000  433.458333  401.683673  399.142857  475.947368   \n",
       "           std   123.913081  108.281027  115.733038   92.358687  139.026645   \n",
       "HP         mean   73.781250   72.000000   77.275510   67.250000   70.631579   \n",
       "           std    25.662492   21.286861   36.233430   19.665019   28.421340   \n",
       "Attack     mean   95.750000   72.750000   73.469388   74.678571   71.456140   \n",
       "           std    33.059087   27.289511   30.295862   19.630010   42.309265   \n",
       "Defense    mean   84.843750   71.416667   59.846939   68.821429   67.684211   \n",
       "           std    33.786912   34.387708   23.771833   21.066128   28.359401   \n",
       "Sp. Atk    mean   56.468750   77.541667   55.816327   60.428571   98.403509   \n",
       "           std    28.135598   26.604967   23.946395   19.322657   38.539340   \n",
       "Sp. Def    mean   62.750000   76.291667   63.724490   64.392857   86.280702   \n",
       "           std    21.267877   37.213227   25.142801   19.887348   31.126329   \n",
       "Speed      mean   63.906250   63.458333   71.551020   63.571429   81.491228   \n",
       "           std    27.450083   24.498410   28.406157   22.631392   37.335412   \n",
       "Generation mean    3.156250    3.541667    3.051020    2.535714    3.385965   \n",
       "           std     1.588454    1.473805    1.575407    1.752927    1.644845   \n",
       "Legendary  mean    0.125000    0.083333    0.020408    0.000000    0.245614   \n",
       "           std     0.336011    0.282330    0.142119    0.000000    0.434277   \n",
       "\n",
       "Type 1                 Rock       Steel       Water  \n",
       "#          mean  392.727273  442.851852  303.089286  \n",
       "           std   213.746140  164.847180  188.440807  \n",
       "Total      mean  453.750000  487.703704  430.455357  \n",
       "           std   108.059227  115.420907  113.188266  \n",
       "HP         mean   65.363636   65.222222   72.062500  \n",
       "           std    20.833884   16.044010   27.487026  \n",
       "Attack     mean   92.863636   92.703704   74.151786  \n",
       "           std    35.325458   30.388276   28.377192  \n",
       "Defense    mean  100.795455  126.370370   72.946429  \n",
       "           std    36.447209   44.806548   27.773809  \n",
       "Sp. Atk    mean   63.340909   67.518519   74.812500  \n",
       "           std    28.249670   31.458606   29.030128  \n",
       "Sp. Def    mean   75.477273   80.629630   70.517857  \n",
       "           std    32.265965   29.018758   28.460493  \n",
       "Speed      mean   55.909091   55.259259   65.964286  \n",
       "           std    29.903580   25.846578   23.019353  \n",
       "Generation mean    3.454545    3.851852    2.857143  \n",
       "           std     1.848375    1.350319    1.558800  \n",
       "Legendary  mean    0.090909    0.148148    0.035714  \n",
       "           std     0.290803    0.362014    0.186411  "
      ]
     },
     "execution_count": 67,
     "metadata": {},
     "output_type": "execute_result"
    }
   ],
   "source": [
    "# Your code here:\n",
    "comp_pok = pokemon.groupby(by='Type 1').agg(('mean','std')).T\n",
    "comp_pok\n",
    "#comp_pok.columns\n",
    "#comp_pok[comp_pok['Type 1'] == 'mean']\n"
   ]
  },
  {
   "cell_type": "code",
   "execution_count": null,
   "metadata": {},
   "outputs": [],
   "source": []
  },
  {
   "cell_type": "markdown",
   "metadata": {},
   "source": [
    "Perform a hypothesis test comparing the mean of total points for water Pokemon to all non-water Pokemon. Assume the variances are equal. "
   ]
  },
  {
   "cell_type": "code",
   "execution_count": 77,
   "metadata": {},
   "outputs": [
    {
     "data": {
      "text/plain": [
       "Ttest_indResult(statistic=-0.4418547448849676, pvalue=0.6587140317488793)"
      ]
     },
     "execution_count": 77,
     "metadata": {},
     "output_type": "execute_result"
    }
   ],
   "source": [
    "# Your code here:\n",
    "water_pokemon = pokemon[pokemon['Type 1'] == 'Water']['Total']\n",
    "non_water_pokemon = pokemon[pokemon['Type 1'] != 'Water']['Total']\n",
    "\n",
    "ttest_ind(water_pokemon,non_water_pokemon, equal_var=True)"
   ]
  },
  {
   "cell_type": "markdown",
   "metadata": {},
   "source": [
    "Write your conclusion below."
   ]
  },
  {
   "cell_type": "code",
   "execution_count": 10,
   "metadata": {},
   "outputs": [],
   "source": [
    "# Your conclusions here:\n",
    "#there are significant difference between each other"
   ]
  },
  {
   "cell_type": "markdown",
   "metadata": {},
   "source": [
    "# Challenge 2 - Matched Pairs Test\n",
    "\n",
    "In this challenge we will compare dependent samples of data describing our Pokemon. Our goal is to see whether there is a significant difference between each Pokemon's defense and attack scores. Our hypothesis is that the defense and attack scores are equal. In the cell below, import the `ttest_rel` function from `scipy.stats` and compare the two columns to see if there is a statistically significant difference between them."
   ]
  },
  {
   "cell_type": "code",
   "execution_count": 68,
   "metadata": {},
   "outputs": [],
   "source": [
    "# Your code here:\n",
    "from scipy.stats import ttest_rel"
   ]
  },
  {
   "cell_type": "markdown",
   "metadata": {},
   "source": [
    "Describe the results of the test in the cell below."
   ]
  },
  {
   "cell_type": "code",
   "execution_count": 69,
   "metadata": {},
   "outputs": [
    {
     "data": {
      "text/plain": [
       "Ttest_relResult(statistic=4.325566393330478, pvalue=1.7140303479358558e-05)"
      ]
     },
     "execution_count": 69,
     "metadata": {},
     "output_type": "execute_result"
    }
   ],
   "source": [
    "# Your conclusions here:\n",
    "ttest_rel(pokemon['Attack'], pokemon['Defense'])\n"
   ]
  },
  {
   "cell_type": "markdown",
   "metadata": {},
   "source": [
    "We are also curious about whether therer is a significant difference between the mean of special defense and the mean of special attack. Perform the hypothesis test in the cell below. "
   ]
  },
  {
   "cell_type": "code",
   "execution_count": 71,
   "metadata": {},
   "outputs": [
    {
     "data": {
      "text/plain": [
       "Ttest_relResult(statistic=0.853986188453353, pvalue=0.3933685997548122)"
      ]
     },
     "execution_count": 71,
     "metadata": {},
     "output_type": "execute_result"
    }
   ],
   "source": [
    "# Your code here:\n",
    "ttest_rel(pokemon['Sp. Atk'], pokemon['Sp. Def'])\n",
    "\n"
   ]
  },
  {
   "cell_type": "markdown",
   "metadata": {},
   "source": [
    "Describe the results of the test in the cell below."
   ]
  },
  {
   "cell_type": "code",
   "execution_count": 14,
   "metadata": {},
   "outputs": [],
   "source": [
    "# Your conclusions here:\n",
    "#there is no significant difference between them pvalue is extremely high\n"
   ]
  },
  {
   "cell_type": "markdown",
   "metadata": {},
   "source": [
    "As you may recall, a two sample matched pairs test can also be expressed as a one sample test of the difference between the two dependent columns.\n",
    "\n",
    "Import the `ttest_1samp` function and perform a one sample t-test of the difference between defense and attack. Test the hypothesis that the difference between the means is zero. Confirm that the results of the test are the same."
   ]
  },
  {
   "cell_type": "code",
   "execution_count": 78,
   "metadata": {},
   "outputs": [
    {
     "data": {
      "text/plain": [
       "Ttest_1sampResult(statistic=4.325566393330478, pvalue=1.7140303479358558e-05)"
      ]
     },
     "execution_count": 78,
     "metadata": {},
     "output_type": "execute_result"
    }
   ],
   "source": [
    "# Your code here:\n",
    "from scipy.stats import ttest_1samp\n",
    "dif = pokemon['Attack'] - pokemon['Defense']\n",
    "ttest_1samp(dif,0)"
   ]
  },
  {
   "cell_type": "markdown",
   "metadata": {},
   "source": [
    "# Bonus Challenge - The Chi-Square Test\n",
    "\n",
    "The Chi-Square test is used to determine whether there is a statistically significant difference in frequencies. In other words, we are testing whether there is a relationship between categorical variables or rather when the variables are independent. This test is an alternative to Fisher's exact test and is used in scenarios where sample sizes are larger. However, with a large enough sample size, both tests produce similar results. Read more about the Chi Squared test [here](https://en.wikipedia.org/wiki/Chi-squared_test).\n",
    "\n",
    "In the cell below, create a contingency table using `pd.crosstab` comparing whether a Pokemon is legenadary or not and whether the Type 1 of a Pokemon is water or not."
   ]
  },
  {
   "cell_type": "code",
   "execution_count": 17,
   "metadata": {},
   "outputs": [],
   "source": [
    "# Your code here:\n",
    "\n"
   ]
  },
  {
   "cell_type": "markdown",
   "metadata": {},
   "source": [
    "Perform a chi-squared test using the `chi2_contingency` function in `scipy.stats`. You can read the documentation of the function [here](https://docs.scipy.org/doc/scipy-0.15.1/reference/generated/scipy.stats.chi2_contingency.html)."
   ]
  },
  {
   "cell_type": "code",
   "execution_count": 18,
   "metadata": {},
   "outputs": [],
   "source": [
    "# Your code here:\n",
    "\n"
   ]
  },
  {
   "cell_type": "markdown",
   "metadata": {},
   "source": [
    "Based on a 95% confidence, should we reject the null hypothesis?"
   ]
  },
  {
   "cell_type": "code",
   "execution_count": 19,
   "metadata": {},
   "outputs": [],
   "source": [
    "# Your answer here:\n",
    "\n"
   ]
  },
  {
   "cell_type": "code",
   "execution_count": null,
   "metadata": {},
   "outputs": [],
   "source": []
  }
 ],
 "metadata": {
  "kernelspec": {
   "display_name": "Python 3",
   "language": "python",
   "name": "python3"
  },
  "language_info": {
   "codemirror_mode": {
    "name": "ipython",
    "version": 3
   },
   "file_extension": ".py",
   "mimetype": "text/x-python",
   "name": "python",
   "nbconvert_exporter": "python",
   "pygments_lexer": "ipython3",
   "version": "3.9.7"
  }
 },
 "nbformat": 4,
 "nbformat_minor": 2
}
